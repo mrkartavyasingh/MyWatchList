{
 "cells": [
  {
   "cell_type": "code",
   "execution_count": 1,
   "metadata": {},
   "outputs": [
    {
     "data": {
      "text/plain": [
       "<firebase_admin.App at 0x1dec74b6470>"
      ]
     },
     "execution_count": 1,
     "metadata": {},
     "output_type": "execute_result"
    }
   ],
   "source": [
    "import firebase_admin\n",
    "from firebase_admin import credentials, firestore\n",
    "\n",
    "cred = credentials.Certificate(\n",
    "    \"my-watch-list-70518-firebase-adminsdk-7l66l-2192f9bff7.json\")\n",
    "firebase_admin.initialize_app(cred)"
   ]
  },
  {
   "cell_type": "code",
   "execution_count": 2,
   "metadata": {},
   "outputs": [],
   "source": [
    "db = firestore.client()\n",
    "\n",
    "doc_ref = db.collection(\"users\").document(\"cIigAM0Xt8PW4U0U4Q4WjTE5y0b2\")\n",
    "mwl_movie_doc_ref = db.collection(\"users\").document(\"cIigAM0Xt8PW4U0U4Q4WjTE5y0b2\").collection(\"mwl_movies\")\n",
    "mwl_tv_shows_doc_ref = db.collection(\"users\").document(\"cIigAM0Xt8PW4U0U4Q4WjTE5y0b2\").collection(\"mwl_tv_shows\")\n",
    "mwl_anime_doc_ref = db.collection(\"users\").document(\"cIigAM0Xt8PW4U0U4Q4WjTE5y0b2\").collection(\"mwl_anime\")\n"
   ]
  },
  {
   "cell_type": "code",
   "execution_count": 3,
   "metadata": {},
   "outputs": [
    {
     "data": {
      "text/plain": [
       "531"
      ]
     },
     "execution_count": 3,
     "metadata": {},
     "output_type": "execute_result"
    }
   ],
   "source": [
    "mwl_movie_data = mwl_movie_doc_ref.stream()\n",
    "\n",
    "movie_lt = []\n",
    "\n",
    "for mwl_movie in mwl_movie_data:\n",
    "    # print(mwl_movie.to_dict())\n",
    "    movie_lt.append(mwl_movie.to_dict())\n",
    "\n",
    "len(movie_lt)"
   ]
  },
  {
   "cell_type": "code",
   "execution_count": 4,
   "metadata": {},
   "outputs": [
    {
     "name": "stdout",
     "output_type": "stream",
     "text": [
      "67\n"
     ]
    }
   ],
   "source": [
    "mwl_tv_shows_data = mwl_tv_shows_doc_ref.stream()\n",
    "\n",
    "tv_shows_lt = []\n",
    "\n",
    "for mwl_tv_shows in mwl_tv_shows_data:\n",
    "    # print(mwl_tv_shows.to_dict())\n",
    "    tv_shows_lt.append(mwl_tv_shows.to_dict()[\"name\"])\n",
    "\n",
    "tv_shows_name_set = set()\n",
    "for tv_shows_name in tv_shows_lt:\n",
    "    tv_shows_name_set.add(tv_shows_name.split(\":\")[0])\n",
    "\n",
    "print(len(tv_shows_name_set))\n"
   ]
  },
  {
   "cell_type": "code",
   "execution_count": 5,
   "metadata": {},
   "outputs": [
    {
     "name": "stdout",
     "output_type": "stream",
     "text": [
      "102\n"
     ]
    }
   ],
   "source": [
    "mwl_anime_data = mwl_anime_doc_ref.stream()\n",
    "\n",
    "anime_lt = []\n",
    "\n",
    "for mwl_anime in mwl_anime_data:\n",
    "    # print(mwl_anime.to_dict())\n",
    "    anime_lt.append(mwl_anime.to_dict()[\"name\"])\n",
    "\n",
    "anime_name_set = set()\n",
    "for anime_name in anime_lt:\n",
    "    anime_name_set.add(anime_name.split(\":\")[0])\n",
    "\n",
    "print(len(anime_name_set))"
   ]
  },
  {
   "cell_type": "code",
   "execution_count": 6,
   "metadata": {},
   "outputs": [
    {
     "data": {
      "text/plain": [
       "update_time {\n",
       "  seconds: 1708467162\n",
       "  nanos: 715091000\n",
       "}"
      ]
     },
     "execution_count": 6,
     "metadata": {},
     "output_type": "execute_result"
    }
   ],
   "source": [
    "data = doc_ref.get().to_dict()\n",
    "data[\"movies_count\"] = len(movie_lt)\n",
    "data[\"tv_shows_count\"] = len(tv_shows_name_set)\n",
    "data[\"anime_count\"] = len(anime_name_set)\n",
    "\n",
    "doc_ref.set(data)\n"
   ]
  }
 ],
 "metadata": {
  "kernelspec": {
   "display_name": "Python 3",
   "language": "python",
   "name": "python3"
  },
  "language_info": {
   "codemirror_mode": {
    "name": "ipython",
    "version": 3
   },
   "file_extension": ".py",
   "mimetype": "text/x-python",
   "name": "python",
   "nbconvert_exporter": "python",
   "pygments_lexer": "ipython3",
   "version": "3.10.11"
  }
 },
 "nbformat": 4,
 "nbformat_minor": 2
}
